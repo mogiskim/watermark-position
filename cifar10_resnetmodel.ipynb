{
 "cells": [
  {
   "cell_type": "code",
   "execution_count": 1,
   "id": "f4d749b3-df5f-4168-9eb4-67e6cf968413",
   "metadata": {},
   "outputs": [],
   "source": [
    "import numpy as np\n",
    "import tensorflow as tf\n",
    "from tensorflow.keras.datasets import cifar10\n",
    "from tensorflow.keras.models import Model, Sequential\n",
    "from tensorflow.keras.layers import Conv2D, MaxPool2D, Input\n",
    "from tensorflow.keras.layers import Flatten, Dense, Dropout\n",
    "from tensorflow.keras.optimizers import Adam\n",
    "from tensorflow.keras.preprocessing.image import ImageDataGenerator\n",
    "import matplotlib.pyplot as plt\n",
    "from keras.applications import VGG19,ResNet50"
   ]
  },
  {
   "cell_type": "code",
   "execution_count": 2,
   "id": "d0ba1285-19b9-4511-9d96-aee1ff8a6419",
   "metadata": {},
   "outputs": [],
   "source": [
    "(train_x, train_y), (test_x, test_y) = cifar10.load_data()"
   ]
  },
  {
   "cell_type": "code",
   "execution_count": 3,
   "id": "6185be2a-4758-46ba-8b97-5ec7ab2d6ca6",
   "metadata": {},
   "outputs": [],
   "source": [
    "train_x = train_x.astype(np.float32) / 255.0\n",
    "test_x = test_x.astype(np.float32) / 255.0"
   ]
  },
  {
   "cell_type": "code",
   "execution_count": 4,
   "id": "299d39fe-b144-43ac-9db1-e9141a75970c",
   "metadata": {},
   "outputs": [],
   "source": [
    "gen = ImageDataGenerator(\n",
    "    rotation_range=20,\n",
    "    shear_range=0.2,\n",
    "    width_shift_range=0.2,\n",
    "    height_shift_range=0.2,\n",
    "    horizontal_flip=True\n",
    ")"
   ]
  },
  {
   "cell_type": "code",
   "execution_count": 5,
   "id": "989dc31c-4896-4ab4-9261-305c1f898d97",
   "metadata": {},
   "outputs": [],
   "source": [
    "augment_ratio = 1.5\n",
    "augment_size = int(augment_ratio * train_x.shape[0])"
   ]
  },
  {
   "cell_type": "code",
   "execution_count": 6,
   "id": "110d4d17-5515-42e9-a723-393319bb981a",
   "metadata": {},
   "outputs": [],
   "source": [
    "randIdx = np.random.randint(train_x.shape[0], size=augment_size)"
   ]
  },
  {
   "cell_type": "code",
   "execution_count": 7,
   "id": "bec8dc57-c934-4d1e-869b-6275cbbd707d",
   "metadata": {},
   "outputs": [],
   "source": [
    "augmented_x = train_x[randIdx].copy()\n",
    "augmented_y = train_y[randIdx].copy()"
   ]
  },
  {
   "cell_type": "code",
   "execution_count": 8,
   "id": "b316e698-886f-4c6c-8c13-93b8eadba996",
   "metadata": {},
   "outputs": [],
   "source": [
    "augmented_x, augmented_y = gen.flow(\n",
    "    augmented_x, \n",
    "    augmented_y,\n",
    "    batch_size=augment_size,\n",
    "    shuffle=False\n",
    ").next()"
   ]
  },
  {
   "cell_type": "code",
   "execution_count": 9,
   "id": "d6efdf55-3b8b-4cf1-9fa0-b31575c8b648",
   "metadata": {},
   "outputs": [],
   "source": [
    "train_x = np.concatenate((train_x, augmented_x))\n",
    "train_y = np.concatenate((train_y, augmented_y))"
   ]
  },
  {
   "cell_type": "code",
   "execution_count": 10,
   "id": "c8f517ce-983e-4ac6-9419-a5e82b2a7452",
   "metadata": {},
   "outputs": [],
   "source": [
    "s = np.arange(train_x.shape[0])\n",
    "np.random.shuffle(s)"
   ]
  },
  {
   "cell_type": "code",
   "execution_count": 11,
   "id": "8ffe5917-9130-43bd-9712-0742ff981cea",
   "metadata": {},
   "outputs": [],
   "source": [
    "train_x = train_x[s]\n",
    "train_y = train_y[s]"
   ]
  },
  {
   "cell_type": "code",
   "execution_count": 12,
   "id": "5b5f282f-af18-445d-9296-bdc44d9df5f9",
   "metadata": {},
   "outputs": [],
   "source": [
    "def CreateModel():\n",
    "    baseModel = ResNet50(include_top=False,weights='imagenet',input_shape=(32,32,3),classes=train_y.shape[1])\n",
    "    \n",
    "    model= Sequential()\n",
    "    model.add(baseModel)\n",
    "    model.add(Flatten())\n",
    "    \n",
    "    model.add(Dense(1024,activation=('relu')))\n",
    "    model.add(Dense(512,activation=('relu'))) \n",
    "    model.add(Dense(256,activation=('relu'))) \n",
    "    model.add(Dense(128,activation=('relu')))\n",
    "    model.add(Dense(10,activation=('softmax'))) #This is the classification layer\n",
    "    \n",
    "    model.compile(loss='sparse_categorical_crossentropy', optimizer='adam', metrics=['accuracy'])\n",
    "    model.summary()\n",
    "    \n",
    "    return model"
   ]
  },
  {
   "cell_type": "code",
   "execution_count": 13,
   "id": "7c885f19-91b2-4b17-863a-e80e30f1dd3f",
   "metadata": {},
   "outputs": [
    {
     "name": "stdout",
     "output_type": "stream",
     "text": [
      "Model: \"sequential\"\n",
      "_________________________________________________________________\n",
      " Layer (type)                Output Shape              Param #   \n",
      "=================================================================\n",
      " resnet50 (Functional)       (None, 1, 1, 2048)        23587712  \n",
      "                                                                 \n",
      " flatten (Flatten)           (None, 2048)              0         \n",
      "                                                                 \n",
      " dense (Dense)               (None, 1024)              2098176   \n",
      "                                                                 \n",
      " dense_1 (Dense)             (None, 512)               524800    \n",
      "                                                                 \n",
      " dense_2 (Dense)             (None, 256)               131328    \n",
      "                                                                 \n",
      " dense_3 (Dense)             (None, 128)               32896     \n",
      "                                                                 \n",
      " dense_4 (Dense)             (None, 10)                1290      \n",
      "                                                                 \n",
      "=================================================================\n",
      "Total params: 26,376,202\n",
      "Trainable params: 26,323,082\n",
      "Non-trainable params: 53,120\n",
      "_________________________________________________________________\n"
     ]
    }
   ],
   "source": [
    "model = CreateModel()"
   ]
  },
  {
   "cell_type": "code",
   "execution_count": 14,
   "id": "4d2185e5-bb8b-432c-a4d5-a24673a8c736",
   "metadata": {},
   "outputs": [
    {
     "name": "stdout",
     "output_type": "stream",
     "text": [
      "Epoch 1/30\n",
      "489/489 [==============================] - 34s 52ms/step - loss: 0.9961 - accuracy: 0.6645 - val_loss: 3.4920 - val_accuracy: 0.1283\n",
      "Epoch 2/30\n",
      "489/489 [==============================] - 24s 50ms/step - loss: 0.6528 - accuracy: 0.7812 - val_loss: 1.1126 - val_accuracy: 0.6461\n",
      "Epoch 3/30\n",
      "489/489 [==============================] - 24s 50ms/step - loss: 0.5192 - accuracy: 0.8269 - val_loss: 0.7895 - val_accuracy: 0.7624\n",
      "Epoch 4/30\n",
      "489/489 [==============================] - 24s 50ms/step - loss: 0.4278 - accuracy: 0.8574 - val_loss: 0.7186 - val_accuracy: 0.7736\n",
      "Epoch 5/30\n",
      "489/489 [==============================] - 24s 50ms/step - loss: 0.3613 - accuracy: 0.8791 - val_loss: 0.9202 - val_accuracy: 0.7520\n",
      "Epoch 6/30\n",
      "489/489 [==============================] - 24s 50ms/step - loss: 0.3033 - accuracy: 0.8982 - val_loss: 0.6669 - val_accuracy: 0.7944\n",
      "Epoch 7/30\n",
      "489/489 [==============================] - 24s 50ms/step - loss: 0.2621 - accuracy: 0.9126 - val_loss: 0.8595 - val_accuracy: 0.7820\n",
      "Epoch 8/30\n",
      "489/489 [==============================] - 24s 50ms/step - loss: 0.2196 - accuracy: 0.9262 - val_loss: 1.0524 - val_accuracy: 0.7684\n",
      "Epoch 9/30\n",
      "489/489 [==============================] - 24s 50ms/step - loss: 0.2014 - accuracy: 0.9337 - val_loss: 0.9111 - val_accuracy: 0.7744\n",
      "Epoch 10/30\n",
      "489/489 [==============================] - 24s 50ms/step - loss: 0.1685 - accuracy: 0.9431 - val_loss: 0.8561 - val_accuracy: 0.7708\n",
      "Epoch 11/30\n",
      "489/489 [==============================] - 25s 50ms/step - loss: 0.1387 - accuracy: 0.9545 - val_loss: 0.7761 - val_accuracy: 0.8141\n",
      "Epoch 12/30\n",
      "489/489 [==============================] - 24s 50ms/step - loss: 0.1249 - accuracy: 0.9591 - val_loss: 0.8987 - val_accuracy: 0.7834\n",
      "Epoch 13/30\n",
      "489/489 [==============================] - 25s 50ms/step - loss: 0.1137 - accuracy: 0.9625 - val_loss: 1.0269 - val_accuracy: 0.7704\n",
      "Epoch 14/30\n",
      "489/489 [==============================] - 25s 50ms/step - loss: 0.1048 - accuracy: 0.9654 - val_loss: 0.9625 - val_accuracy: 0.7914\n",
      "Epoch 15/30\n",
      "489/489 [==============================] - 25s 50ms/step - loss: 0.0994 - accuracy: 0.9673 - val_loss: 1.2304 - val_accuracy: 0.7913\n",
      "Epoch 16/30\n",
      "489/489 [==============================] - 24s 50ms/step - loss: 0.0920 - accuracy: 0.9701 - val_loss: 0.9832 - val_accuracy: 0.7930\n",
      "Epoch 17/30\n",
      "489/489 [==============================] - 24s 50ms/step - loss: 0.1158 - accuracy: 0.9676 - val_loss: 12.7461 - val_accuracy: 0.6856\n",
      "Epoch 18/30\n",
      "489/489 [==============================] - 24s 50ms/step - loss: 0.1076 - accuracy: 0.9655 - val_loss: 1.1075 - val_accuracy: 0.7911\n",
      "Epoch 19/30\n",
      "489/489 [==============================] - 25s 50ms/step - loss: 0.0660 - accuracy: 0.9779 - val_loss: 0.9654 - val_accuracy: 0.8048\n",
      "Epoch 20/30\n",
      "489/489 [==============================] - 25s 50ms/step - loss: 0.0641 - accuracy: 0.9794 - val_loss: 0.9174 - val_accuracy: 0.8183\n",
      "Epoch 21/30\n",
      "489/489 [==============================] - 24s 50ms/step - loss: 0.0634 - accuracy: 0.9794 - val_loss: 0.9458 - val_accuracy: 0.8088\n",
      "Epoch 22/30\n",
      "489/489 [==============================] - 25s 50ms/step - loss: 0.0649 - accuracy: 0.9784 - val_loss: 1.0001 - val_accuracy: 0.8123\n",
      "Epoch 23/30\n",
      "489/489 [==============================] - 25s 50ms/step - loss: 0.1064 - accuracy: 0.9670 - val_loss: 1.1639 - val_accuracy: 0.7966\n",
      "Epoch 24/30\n",
      "489/489 [==============================] - 24s 50ms/step - loss: 0.0780 - accuracy: 0.9741 - val_loss: 1.0361 - val_accuracy: 0.8057\n",
      "Epoch 25/30\n",
      "489/489 [==============================] - 24s 50ms/step - loss: 0.0477 - accuracy: 0.9848 - val_loss: 0.9194 - val_accuracy: 0.8181\n",
      "Epoch 26/30\n",
      "489/489 [==============================] - 24s 50ms/step - loss: 0.0463 - accuracy: 0.9849 - val_loss: 1.0709 - val_accuracy: 0.8108\n",
      "Epoch 27/30\n",
      "489/489 [==============================] - 24s 50ms/step - loss: 0.0487 - accuracy: 0.9839 - val_loss: 1.0268 - val_accuracy: 0.8088\n",
      "Epoch 28/30\n",
      "489/489 [==============================] - 24s 50ms/step - loss: 0.0488 - accuracy: 0.9844 - val_loss: 1.0782 - val_accuracy: 0.8015\n",
      "Epoch 29/30\n",
      "489/489 [==============================] - 24s 50ms/step - loss: 0.0504 - accuracy: 0.9837 - val_loss: 0.9909 - val_accuracy: 0.8164\n",
      "Epoch 30/30\n",
      "489/489 [==============================] - 24s 50ms/step - loss: 0.0489 - accuracy: 0.9840 - val_loss: 1.1262 - val_accuracy: 0.8061\n"
     ]
    }
   ],
   "source": [
    "history = model.fit(train_x, train_y, batch_size=256, epochs=30, validation_data=(test_x, test_y))"
   ]
  },
  {
   "cell_type": "markdown",
   "id": "de0c0fa3-9244-4636-b39c-388b4530fdc7",
   "metadata": {},
   "source": [
    "### 80.61 %"
   ]
  },
  {
   "cell_type": "code",
   "execution_count": 15,
   "id": "6b8bf233-d44b-4ddb-b06b-2bdb3ead2f4f",
   "metadata": {},
   "outputs": [
    {
     "data": {
      "image/png": "[encoded data removed]",
      "text/plain": [
       "<Figure size 640x480 with 1 Axes>"
      ]
     },
     "metadata": {},
     "output_type": "display_data"
    }
   ],
   "source": [
    "plt.plot(history.history['accuracy'])\n",
    "plt.plot(history.history['val_accuracy'])\n",
    "plt.title('Accuracy Graph')\n",
    "plt.ylabel('accuracy')\n",
    "plt.xlabel('epoch')\n",
    "plt.legend(['train', 'validation'], loc='best')\n",
    "plt.grid()\n",
    "plt.show()"
   ]
  },
  {
   "cell_type": "code",
   "execution_count": 16,
   "id": "31fb0cd9-4f1e-451b-80eb-567f6a09e527",
   "metadata": {},
   "outputs": [
    {
     "name": "stderr",
     "output_type": "stream",
     "text": [
      "WARNING:absl:Found untraced functions such as _jit_compiled_convolution_op, _jit_compiled_convolution_op, _jit_compiled_convolution_op, _jit_compiled_convolution_op, _jit_compiled_convolution_op while saving (showing 5 of 53). These functions will not be directly callable after loading.\n"
     ]
    },
    {
     "name": "stdout",
     "output_type": "stream",
     "text": [
      "INFO:tensorflow:Assets written to: 80.61.model\\assets\n"
     ]
    },
    {
     "name": "stderr",
     "output_type": "stream",
     "text": [
      "INFO:tensorflow:Assets written to: 80.61.model\\assets\n"
     ]
    }
   ],
   "source": [
    "model.save('80.61.model')"
   ]
  },
  {
   "cell_type": "code",
   "execution_count": null,
   "id": "b46ddf4c-99c9-4adc-b9d7-469ab7467fe6",
   "metadata": {},
   "outputs": [],
   "source": []
  }
 ],
 "metadata": {
  "kernelspec": {
   "display_name": "rtx3080",
   "language": "python",
   "name": "rtx3080"
  },
  "language_info": {
   "codemirror_mode": {
    "name": "ipython",
    "version": 3
   },
   "file_extension": ".py",
   "mimetype": "text/x-python",
   "name": "python",
   "nbconvert_exporter": "python",
   "pygments_lexer": "ipython3",
   "version": "3.9.0"
  }
 },
 "nbformat": 4,
 "nbformat_minor": 5
}

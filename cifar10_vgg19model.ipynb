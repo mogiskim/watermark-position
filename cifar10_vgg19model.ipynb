{
 "cells": [
  {
   "cell_type": "code",
   "execution_count": 1,
   "id": "f4d749b3-df5f-4168-9eb4-67e6cf968413",
   "metadata": {},
   "outputs": [],
   "source": [
    "import numpy as np\n",
    "import tensorflow as tf\n",
    "from tensorflow.keras.datasets import cifar10\n",
    "from tensorflow.keras.models import Model, Sequential\n",
    "from tensorflow.keras.layers import Conv2D, MaxPool2D, Input\n",
    "from tensorflow.keras.layers import Flatten, Dense, Dropout\n",
    "from tensorflow.keras.optimizers import Adam\n",
    "from tensorflow.keras.preprocessing.image import ImageDataGenerator\n",
    "import matplotlib.pyplot as plt\n",
    "from keras.applications import VGG19,ResNet50"
   ]
  },
  {
   "cell_type": "code",
   "execution_count": 2,
   "id": "d0ba1285-19b9-4511-9d96-aee1ff8a6419",
   "metadata": {},
   "outputs": [],
   "source": [
    "(train_x, train_y), (test_x, test_y) = cifar10.load_data()"
   ]
  },
  {
   "cell_type": "code",
   "execution_count": 3,
   "id": "6185be2a-4758-46ba-8b97-5ec7ab2d6ca6",
   "metadata": {},
   "outputs": [],
   "source": [
    "train_x = train_x.astype(np.float32) / 255.0\n",
    "test_x = test_x.astype(np.float32) / 255.0"
   ]
  },
  {
   "cell_type": "code",
   "execution_count": 4,
   "id": "299d39fe-b144-43ac-9db1-e9141a75970c",
   "metadata": {},
   "outputs": [],
   "source": [
    "gen = ImageDataGenerator(\n",
    "    rotation_range=20,\n",
    "    shear_range=0.2,\n",
    "    width_shift_range=0.2,\n",
    "    height_shift_range=0.2,\n",
    "    horizontal_flip=True\n",
    ")"
   ]
  },
  {
   "cell_type": "code",
   "execution_count": 5,
   "id": "989dc31c-4896-4ab4-9261-305c1f898d97",
   "metadata": {},
   "outputs": [],
   "source": [
    "augment_ratio = 1.5\n",
    "augment_size = int(augment_ratio * train_x.shape[0])"
   ]
  },
  {
   "cell_type": "code",
   "execution_count": 6,
   "id": "110d4d17-5515-42e9-a723-393319bb981a",
   "metadata": {},
   "outputs": [],
   "source": [
    "randIdx = np.random.randint(train_x.shape[0], size=augment_size)"
   ]
  },
  {
   "cell_type": "code",
   "execution_count": 7,
   "id": "bec8dc57-c934-4d1e-869b-6275cbbd707d",
   "metadata": {},
   "outputs": [],
   "source": [
    "augmented_x = train_x[randIdx].copy()\n",
    "augmented_y = train_y[randIdx].copy()"
   ]
  },
  {
   "cell_type": "code",
   "execution_count": 8,
   "id": "b316e698-886f-4c6c-8c13-93b8eadba996",
   "metadata": {},
   "outputs": [],
   "source": [
    "augmented_x, augmented_y = gen.flow(\n",
    "    augmented_x, \n",
    "    augmented_y,\n",
    "    batch_size=augment_size,\n",
    "    shuffle=False\n",
    ").next()"
   ]
  },
  {
   "cell_type": "code",
   "execution_count": 9,
   "id": "d6efdf55-3b8b-4cf1-9fa0-b31575c8b648",
   "metadata": {},
   "outputs": [],
   "source": [
    "train_x = np.concatenate((train_x, augmented_x))\n",
    "train_y = np.concatenate((train_y, augmented_y))"
   ]
  },
  {
   "cell_type": "code",
   "execution_count": 10,
   "id": "c8f517ce-983e-4ac6-9419-a5e82b2a7452",
   "metadata": {},
   "outputs": [],
   "source": [
    "s = np.arange(train_x.shape[0])\n",
    "np.random.shuffle(s)"
   ]
  },
  {
   "cell_type": "code",
   "execution_count": 11,
   "id": "8ffe5917-9130-43bd-9712-0742ff981cea",
   "metadata": {},
   "outputs": [],
   "source": [
    "train_x = train_x[s]\n",
    "train_y = train_y[s]"
   ]
  },
  {
   "cell_type": "code",
   "execution_count": 12,
   "id": "5b5f282f-af18-445d-9296-bdc44d9df5f9",
   "metadata": {},
   "outputs": [],
   "source": [
    "def CreateModel():\n",
    "    baseModel = VGG19(include_top=False,weights='imagenet',input_shape=(32,32,3),classes=train_y.shape[1])\n",
    "    \n",
    "    model= Sequential()\n",
    "    model.add(baseModel)\n",
    "    model.add(Flatten())\n",
    "    \n",
    "    model.add(Dense(1024,activation=('relu'),input_dim=512))\n",
    "    model.add(Dense(512,activation=('relu'))) \n",
    "    model.add(Dense(256,activation=('relu'))) \n",
    "    model.add(Dense(128,activation=('relu')))\n",
    "    model.add(Dense(10,activation=('softmax'))) #This is the classification layer\n",
    "    \n",
    "    model.compile(loss='sparse_categorical_crossentropy', optimizer='adam', metrics=['accuracy'])\n",
    "    model.summary()\n",
    "    \n",
    "    return model"
   ]
  },
  {
   "cell_type": "code",
   "execution_count": 13,
   "id": "7c885f19-91b2-4b17-863a-e80e30f1dd3f",
   "metadata": {},
   "outputs": [
    {
     "name": "stdout",
     "output_type": "stream",
     "text": [
      "Model: \"sequential\"\n",
      "_________________________________________________________________\n",
      " Layer (type)                Output Shape              Param #   \n",
      "=================================================================\n",
      " vgg19 (Functional)          (None, 1, 1, 512)         20024384  \n",
      "                                                                 \n",
      " flatten (Flatten)           (None, 512)               0         \n",
      "                                                                 \n",
      " dense (Dense)               (None, 1024)              525312    \n",
      "                                                                 \n",
      " dense_1 (Dense)             (None, 512)               524800    \n",
      "                                                                 \n",
      " dense_2 (Dense)             (None, 256)               131328    \n",
      "                                                                 \n",
      " dense_3 (Dense)             (None, 128)               32896     \n",
      "                                                                 \n",
      " dense_4 (Dense)             (None, 10)                1290      \n",
      "                                                                 \n",
      "=================================================================\n",
      "Total params: 21,240,010\n",
      "Trainable params: 21,240,010\n",
      "Non-trainable params: 0\n",
      "_________________________________________________________________\n"
     ]
    }
   ],
   "source": [
    "model = CreateModel()"
   ]
  },
  {
   "cell_type": "code",
   "execution_count": 14,
   "id": "4d2185e5-bb8b-432c-a4d5-a24673a8c736",
   "metadata": {},
   "outputs": [
    {
     "name": "stdout",
     "output_type": "stream",
     "text": [
      "Epoch 1/30\n",
      "489/489 [==============================] - 27s 46ms/step - loss: 1.8492 - accuracy: 0.2597 - val_loss: 1.5182 - val_accuracy: 0.3706\n",
      "Epoch 2/30\n",
      "489/489 [==============================] - 22s 44ms/step - loss: 1.4607 - accuracy: 0.4379 - val_loss: 1.2586 - val_accuracy: 0.5555\n",
      "Epoch 3/30\n",
      "489/489 [==============================] - 22s 45ms/step - loss: 1.2601 - accuracy: 0.5513 - val_loss: 1.1429 - val_accuracy: 0.6094\n",
      "Epoch 4/30\n",
      "489/489 [==============================] - 22s 45ms/step - loss: 1.0080 - accuracy: 0.6489 - val_loss: 0.9026 - val_accuracy: 0.6881\n",
      "Epoch 5/30\n",
      "489/489 [==============================] - 22s 46ms/step - loss: 0.8756 - accuracy: 0.7056 - val_loss: 0.9801 - val_accuracy: 0.6982\n",
      "Epoch 6/30\n",
      "489/489 [==============================] - 22s 46ms/step - loss: 0.7563 - accuracy: 0.7512 - val_loss: 0.7850 - val_accuracy: 0.7516\n",
      "Epoch 7/30\n",
      "489/489 [==============================] - 22s 46ms/step - loss: 0.7025 - accuracy: 0.7707 - val_loss: 0.7165 - val_accuracy: 0.7694\n",
      "Epoch 8/30\n",
      "489/489 [==============================] - 23s 46ms/step - loss: 0.5757 - accuracy: 0.8140 - val_loss: 0.6977 - val_accuracy: 0.7906\n",
      "Epoch 9/30\n",
      "489/489 [==============================] - 23s 46ms/step - loss: 0.5143 - accuracy: 0.8353 - val_loss: 0.6564 - val_accuracy: 0.8034\n",
      "Epoch 10/30\n",
      "489/489 [==============================] - 23s 46ms/step - loss: 0.4588 - accuracy: 0.8530 - val_loss: 0.6329 - val_accuracy: 0.8082\n",
      "Epoch 11/30\n",
      "489/489 [==============================] - 23s 46ms/step - loss: 0.4172 - accuracy: 0.8668 - val_loss: 0.6183 - val_accuracy: 0.8160\n",
      "Epoch 12/30\n",
      "489/489 [==============================] - 23s 46ms/step - loss: 0.3716 - accuracy: 0.8833 - val_loss: 0.6650 - val_accuracy: 0.8134\n",
      "Epoch 13/30\n",
      "489/489 [==============================] - 23s 46ms/step - loss: 0.3360 - accuracy: 0.8944 - val_loss: 0.6662 - val_accuracy: 0.8173\n",
      "Epoch 14/30\n",
      "489/489 [==============================] - 23s 46ms/step - loss: 0.3084 - accuracy: 0.9029 - val_loss: 0.6775 - val_accuracy: 0.8201\n",
      "Epoch 15/30\n",
      "489/489 [==============================] - 23s 46ms/step - loss: 0.2849 - accuracy: 0.9117 - val_loss: 0.6766 - val_accuracy: 0.8168\n",
      "Epoch 16/30\n",
      "489/489 [==============================] - 23s 46ms/step - loss: 0.2620 - accuracy: 0.9201 - val_loss: 0.6385 - val_accuracy: 0.8332\n",
      "Epoch 17/30\n",
      "489/489 [==============================] - 23s 46ms/step - loss: 0.2438 - accuracy: 0.9252 - val_loss: 0.7216 - val_accuracy: 0.8271\n",
      "Epoch 18/30\n",
      "489/489 [==============================] - 23s 46ms/step - loss: 0.2347 - accuracy: 0.9287 - val_loss: 0.7217 - val_accuracy: 0.8303\n",
      "Epoch 19/30\n",
      "489/489 [==============================] - 23s 46ms/step - loss: 0.2149 - accuracy: 0.9350 - val_loss: 0.7788 - val_accuracy: 0.8250\n",
      "Epoch 20/30\n",
      "489/489 [==============================] - 23s 46ms/step - loss: 0.1979 - accuracy: 0.9404 - val_loss: 0.9657 - val_accuracy: 0.8238\n",
      "Epoch 21/30\n",
      "489/489 [==============================] - 23s 46ms/step - loss: 0.1956 - accuracy: 0.9424 - val_loss: 0.8149 - val_accuracy: 0.8161\n",
      "Epoch 22/30\n",
      "489/489 [==============================] - 23s 46ms/step - loss: 0.1665 - accuracy: 0.9514 - val_loss: 0.8806 - val_accuracy: 0.8283\n",
      "Epoch 23/30\n",
      "489/489 [==============================] - 23s 46ms/step - loss: 0.1694 - accuracy: 0.9504 - val_loss: 0.7290 - val_accuracy: 0.8272\n",
      "Epoch 24/30\n",
      "489/489 [==============================] - 23s 46ms/step - loss: 0.1775 - accuracy: 0.9477 - val_loss: 0.8426 - val_accuracy: 0.8254\n",
      "Epoch 25/30\n",
      "489/489 [==============================] - 23s 46ms/step - loss: 0.1542 - accuracy: 0.9550 - val_loss: 0.7979 - val_accuracy: 0.8247\n",
      "Epoch 26/30\n",
      "489/489 [==============================] - 23s 46ms/step - loss: 0.1504 - accuracy: 0.9562 - val_loss: 0.8084 - val_accuracy: 0.8324\n",
      "Epoch 27/30\n",
      "489/489 [==============================] - 23s 46ms/step - loss: 0.1252 - accuracy: 0.9642 - val_loss: 0.9301 - val_accuracy: 0.8259\n",
      "Epoch 28/30\n",
      "489/489 [==============================] - 23s 46ms/step - loss: 0.1420 - accuracy: 0.9594 - val_loss: 0.8769 - val_accuracy: 0.8309\n",
      "Epoch 29/30\n",
      "489/489 [==============================] - 23s 46ms/step - loss: 0.1366 - accuracy: 0.9617 - val_loss: 0.8874 - val_accuracy: 0.8217\n",
      "Epoch 30/30\n",
      "489/489 [==============================] - 23s 46ms/step - loss: 0.1924 - accuracy: 0.9463 - val_loss: 0.8088 - val_accuracy: 0.8320\n"
     ]
    }
   ],
   "source": [
    "history = model.fit(train_x, train_y, batch_size=256, epochs=30, validation_data=(test_x, test_y))"
   ]
  },
  {
   "cell_type": "markdown",
   "id": "de0c0fa3-9244-4636-b39c-388b4530fdc7",
   "metadata": {},
   "source": [
    "### 83.20 %"
   ]
  },
  {
   "cell_type": "code",
   "execution_count": 15,
   "id": "6b8bf233-d44b-4ddb-b06b-2bdb3ead2f4f",
   "metadata": {},
   "outputs": [
    {
     "data": {
      "image/png": "[encoded data removed]",
      "text/plain": [
       "<Figure size 640x480 with 1 Axes>"
      ]
     },
     "metadata": {},
     "output_type": "display_data"
    }
   ],
   "source": [
    "plt.plot(history.history['accuracy'])\n",
    "plt.plot(history.history['val_accuracy'])\n",
    "plt.title('Accuracy Graph')\n",
    "plt.ylabel('accuracy')\n",
    "plt.xlabel('epoch')\n",
    "plt.legend(['train', 'validation'], loc='best')\n",
    "plt.grid()\n",
    "plt.show()"
   ]
  },
  {
   "cell_type": "code",
   "execution_count": 16,
   "id": "31fb0cd9-4f1e-451b-80eb-567f6a09e527",
   "metadata": {},
   "outputs": [
    {
     "name": "stderr",
     "output_type": "stream",
     "text": [
      "WARNING:absl:Found untraced functions such as _jit_compiled_convolution_op, _jit_compiled_convolution_op, _jit_compiled_convolution_op, _jit_compiled_convolution_op, _jit_compiled_convolution_op while saving (showing 5 of 16). These functions will not be directly callable after loading.\n"
     ]
    },
    {
     "name": "stdout",
     "output_type": "stream",
     "text": [
      "INFO:tensorflow:Assets written to: 83_20.model\\assets\n"
     ]
    },
    {
     "name": "stderr",
     "output_type": "stream",
     "text": [
      "INFO:tensorflow:Assets written to: 83_20.model\\assets\n"
     ]
    }
   ],
   "source": [
    "model.save('83_20.model')"
   ]
  },
  {
   "cell_type": "code",
   "execution_count": null,
   "id": "b46ddf4c-99c9-4adc-b9d7-469ab7467fe6",
   "metadata": {},
   "outputs": [],
   "source": []
  }
 ],
 "metadata": {
  "kernelspec": {
   "display_name": "rtx3080",
   "language": "python",
   "name": "rtx3080"
  },
  "language_info": {
   "codemirror_mode": {
    "name": "ipython",
    "version": 3
   },
   "file_extension": ".py",
   "mimetype": "text/x-python",
   "name": "python",
   "nbconvert_exporter": "python",
   "pygments_lexer": "ipython3",
   "version": "3.9.0"
  }
 },
 "nbformat": 4,
 "nbformat_minor": 5
}
